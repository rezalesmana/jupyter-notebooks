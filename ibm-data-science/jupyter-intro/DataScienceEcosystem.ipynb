{
 "cells": [
  {
   "cell_type": "markdown",
   "id": "a7281986-dfd6-4ca5-9497-c60bcffa2af6",
   "metadata": {
    "panel-layout": {
     "height": 60.59375,
     "visible": true,
     "width": 100
    }
   },
   "source": [
    "# Data Science Tools and Ecosystem"
   ]
  },
  {
   "cell_type": "markdown",
   "id": "e9806daa-2090-490a-b55b-da924159e964",
   "metadata": {
    "panel-layout": {
     "height": 51.140625,
     "visible": true,
     "width": 100
    }
   },
   "source": [
    "In this notebook, Data Science Tools and Ecosystem are summarized"
   ]
  },
  {
   "cell_type": "markdown",
   "id": "4328c147-f3af-4604-a310-729d014be67a",
   "metadata": {},
   "source": [
    "**Objectives:**\n",
    "- List popular languages for Data Science\n",
    "- List commonly used libraries used by Data Scientists\n",
    "- List popular tools for Data Science"
   ]
  },
  {
   "cell_type": "markdown",
   "id": "f860f9ee-0c00-4e4f-b669-3691e2ae680b",
   "metadata": {
    "panel-layout": {
     "height": 114.5625,
     "visible": true,
     "width": 100
    }
   },
   "source": [
    "Some of the popular languages that Data Scientists use are:\n",
    "1. Python\n",
    "2. R\n",
    "3. Julia"
   ]
  },
  {
   "cell_type": "markdown",
   "id": "6944e1b2-73af-42ec-88bd-b27e3bb8b295",
   "metadata": {
    "panel-layout": {
     "height": 114.5625,
     "visible": true,
     "width": 100
    }
   },
   "source": [
    "Some of the commonly used libraries used by Data Scientists include:\n",
    "1. NumPy\n",
    "2. Pandas\n",
    "3. Matplotlib"
   ]
  },
  {
   "cell_type": "markdown",
   "id": "481e4491-7d4b-4d9f-bd0b-ef1193edcdbc",
   "metadata": {
    "panel-layout": {
     "height": 123.56246948242188,
     "visible": true,
     "width": 100
    }
   },
   "source": [
    "|   Data Science Tools|\n",
    "|:---------------------|\n",
    "|    JupyterLab       |\n",
    "|    RStudio          |\n",
    "|Anaconda Distribution|"
   ]
  },
  {
   "cell_type": "code",
   "execution_count": 5,
   "id": "44a36905-274c-4a77-8856-9dcf00d2f1a4",
   "metadata": {},
   "outputs": [
    {
     "data": {
      "text/html": [
       "<style>\n",
       "table {float: left}\n",
       "</style>\n"
      ],
      "text/plain": [
       "<IPython.core.display.HTML object>"
      ]
     },
     "metadata": {},
     "output_type": "display_data"
    }
   ],
   "source": [
    "%%html\n",
    "<style>\n",
    "table {float: left}\n",
    "</style>"
   ]
  },
  {
   "cell_type": "markdown",
   "id": "ba15fb7f-f926-4a9c-9c46-617048b7065c",
   "metadata": {},
   "source": [
    "### Below are a few examples of evaluating arithmetic expressions in Python"
   ]
  },
  {
   "cell_type": "code",
   "execution_count": 8,
   "id": "5d26c06e-d33f-4a5e-8f2c-87ea50ebaa30",
   "metadata": {},
   "outputs": [
    {
     "data": {
      "text/plain": [
       "17"
      ]
     },
     "execution_count": 8,
     "metadata": {},
     "output_type": "execute_result"
    }
   ],
   "source": [
    "# This is a simple arithmetic expression to multiply then add integers\n",
    "(3*4)+5"
   ]
  },
  {
   "cell_type": "code",
   "execution_count": 10,
   "id": "ab5f1c03-cdda-47ff-90db-9d9537cde092",
   "metadata": {},
   "outputs": [
    {
     "data": {
      "text/plain": [
       "3.3333333333333335"
      ]
     },
     "execution_count": 10,
     "metadata": {},
     "output_type": "execute_result"
    }
   ],
   "source": [
    "# This will convert 200 minutes to hours by dividing by 60\n",
    "200 / 60"
   ]
  },
  {
   "cell_type": "markdown",
   "id": "d588d3a6-7597-4ee9-8004-c9c5280029d1",
   "metadata": {},
   "source": [
    "## Author\n",
    "Reza Lesmana"
   ]
  },
  {
   "cell_type": "code",
   "execution_count": null,
   "id": "e8342a1f-e68f-4adb-a610-f4f5629e3c1f",
   "metadata": {},
   "outputs": [],
   "source": []
  }
 ],
 "metadata": {
  "kernelspec": {
   "display_name": "Python [conda env:base] *",
   "language": "python",
   "name": "conda-base-py"
  },
  "language_info": {
   "codemirror_mode": {
    "name": "ipython",
    "version": 3
   },
   "file_extension": ".py",
   "mimetype": "text/x-python",
   "name": "python",
   "nbconvert_exporter": "python",
   "pygments_lexer": "ipython3",
   "version": "3.13.5"
  },
  "panel-cell-order": [
   "a7281986-dfd6-4ca5-9497-c60bcffa2af6",
   "e9806daa-2090-490a-b55b-da924159e964",
   "f860f9ee-0c00-4e4f-b669-3691e2ae680b",
   "6944e1b2-73af-42ec-88bd-b27e3bb8b295",
   "481e4491-7d4b-4d9f-bd0b-ef1193edcdbc"
  ]
 },
 "nbformat": 4,
 "nbformat_minor": 5
}
